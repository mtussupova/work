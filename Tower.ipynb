{
 "cells": [
  {
   "cell_type": "code",
   "execution_count": 1,
   "metadata": {},
   "outputs": [],
   "source": [
    "import numpy as np\n",
    "import pandas as pd\n",
    "import sklearn as sk\n",
    "import datetime as dt"
   ]
  },
  {
   "cell_type": "code",
   "execution_count": 2,
   "metadata": {},
   "outputs": [],
   "source": [
    "from vacances_scolaires_france import SchoolHolidayDates\n",
    "from jours_feries_france.compute import JoursFeries"
   ]
  },
  {
   "cell_type": "code",
   "execution_count": 3,
   "metadata": {},
   "outputs": [],
   "source": [
    "import matplotlib\n",
    "import matplotlib.pyplot as plt"
   ]
  },
  {
   "cell_type": "code",
   "execution_count": 4,
   "metadata": {},
   "outputs": [
    {
     "data": {
      "text/plain": [
       "True"
      ]
     },
     "execution_count": 4,
     "metadata": {},
     "output_type": "execute_result"
    }
   ],
   "source": [
    "dt.date(2018, 1, 1) in JoursFeries.for_year(2018).values()"
   ]
  },
  {
   "cell_type": "code",
   "execution_count": 5,
   "metadata": {},
   "outputs": [],
   "source": [
    "d = SchoolHolidayDates()"
   ]
  },
  {
   "cell_type": "code",
   "execution_count": 6,
   "metadata": {},
   "outputs": [],
   "source": [
    "train = pd.read_csv(\"./GBS_Building_Attendance-Train.csv\")\n",
    "meeting = pd.read_csv(\"./GBS_Building_Attendance-Meeting_Room.csv\")"
   ]
  },
  {
   "cell_type": "code",
   "execution_count": 7,
   "metadata": {},
   "outputs": [
    {
     "data": {
      "text/html": [
       "<div>\n",
       "<style scoped>\n",
       "    .dataframe tbody tr th:only-of-type {\n",
       "        vertical-align: middle;\n",
       "    }\n",
       "\n",
       "    .dataframe tbody tr th {\n",
       "        vertical-align: top;\n",
       "    }\n",
       "\n",
       "    .dataframe thead th {\n",
       "        text-align: right;\n",
       "    }\n",
       "</style>\n",
       "<table border=\"1\" class=\"dataframe\">\n",
       "  <thead>\n",
       "    <tr style=\"text-align: right;\">\n",
       "      <th></th>\n",
       "      <th>building_floor</th>\n",
       "      <th>meeting_room_capacity</th>\n",
       "      <th>meeting_room_number</th>\n",
       "    </tr>\n",
       "  </thead>\n",
       "  <tbody>\n",
       "    <tr>\n",
       "      <th>0</th>\n",
       "      <td>T103</td>\n",
       "      <td>92.0</td>\n",
       "      <td>5</td>\n",
       "    </tr>\n",
       "    <tr>\n",
       "      <th>1</th>\n",
       "      <td>T104</td>\n",
       "      <td>78.0</td>\n",
       "      <td>10</td>\n",
       "    </tr>\n",
       "    <tr>\n",
       "      <th>2</th>\n",
       "      <td>T105</td>\n",
       "      <td>67.0</td>\n",
       "      <td>10</td>\n",
       "    </tr>\n",
       "    <tr>\n",
       "      <th>3</th>\n",
       "      <td>T106</td>\n",
       "      <td>88.0</td>\n",
       "      <td>11</td>\n",
       "    </tr>\n",
       "    <tr>\n",
       "      <th>4</th>\n",
       "      <td>T107</td>\n",
       "      <td>68.0</td>\n",
       "      <td>10</td>\n",
       "    </tr>\n",
       "  </tbody>\n",
       "</table>\n",
       "</div>"
      ],
      "text/plain": [
       "  building_floor  meeting_room_capacity  meeting_room_number\n",
       "0           T103                   92.0                    5\n",
       "1           T104                   78.0                   10\n",
       "2           T105                   67.0                   10\n",
       "3           T106                   88.0                   11\n",
       "4           T107                   68.0                   10"
      ]
     },
     "execution_count": 7,
     "metadata": {},
     "output_type": "execute_result"
    }
   ],
   "source": [
    "meeting.head()"
   ]
  },
  {
   "cell_type": "code",
   "execution_count": 8,
   "metadata": {},
   "outputs": [
    {
     "data": {
      "text/html": [
       "<div>\n",
       "<style scoped>\n",
       "    .dataframe tbody tr th:only-of-type {\n",
       "        vertical-align: middle;\n",
       "    }\n",
       "\n",
       "    .dataframe tbody tr th {\n",
       "        vertical-align: top;\n",
       "    }\n",
       "\n",
       "    .dataframe thead th {\n",
       "        text-align: right;\n",
       "    }\n",
       "</style>\n",
       "<table border=\"1\" class=\"dataframe\">\n",
       "  <thead>\n",
       "    <tr style=\"text-align: right;\">\n",
       "      <th></th>\n",
       "      <th>date_hour</th>\n",
       "      <th>building_floor</th>\n",
       "      <th>number_of_metro_1</th>\n",
       "      <th>number_of_rer_a</th>\n",
       "      <th>temp_c</th>\n",
       "      <th>high_cloud_cover_per</th>\n",
       "      <th>medium_cloud_cover_per</th>\n",
       "      <th>low_cloud_cover_per</th>\n",
       "      <th>precipitation_mm</th>\n",
       "      <th>sunshine_duration_h</th>\n",
       "      <th>is_a_strike_ratp_day</th>\n",
       "      <th>is_a_strike_sncf_day</th>\n",
       "      <th>floor_capacity</th>\n",
       "      <th>attendance</th>\n",
       "    </tr>\n",
       "  </thead>\n",
       "  <tbody>\n",
       "    <tr>\n",
       "      <th>0</th>\n",
       "      <td>2019-04-12 00:00:00</td>\n",
       "      <td>T100</td>\n",
       "      <td>32.0</td>\n",
       "      <td>26.0</td>\n",
       "      <td>6.0</td>\n",
       "      <td>0.0</td>\n",
       "      <td>0.0</td>\n",
       "      <td>0.0</td>\n",
       "      <td>0.0</td>\n",
       "      <td>0.0</td>\n",
       "      <td>NO</td>\n",
       "      <td>NO</td>\n",
       "      <td>266.0</td>\n",
       "      <td>0.0</td>\n",
       "    </tr>\n",
       "  </tbody>\n",
       "</table>\n",
       "</div>"
      ],
      "text/plain": [
       "             date_hour building_floor  number_of_metro_1  number_of_rer_a  \\\n",
       "0  2019-04-12 00:00:00           T100               32.0             26.0   \n",
       "\n",
       "   temp_c  high_cloud_cover_per  medium_cloud_cover_per  low_cloud_cover_per  \\\n",
       "0     6.0                   0.0                     0.0                  0.0   \n",
       "\n",
       "   precipitation_mm  sunshine_duration_h is_a_strike_ratp_day  \\\n",
       "0               0.0                  0.0                   NO   \n",
       "\n",
       "  is_a_strike_sncf_day  floor_capacity  attendance  \n",
       "0                   NO           266.0         0.0  "
      ]
     },
     "execution_count": 8,
     "metadata": {},
     "output_type": "execute_result"
    }
   ],
   "source": [
    "train.head(1)"
   ]
  },
  {
   "cell_type": "code",
   "execution_count": 9,
   "metadata": {},
   "outputs": [],
   "source": [
    "train['date_hour'] = train.date_hour.apply(lambda x: dt.datetime.strptime(x, '%Y-%m-%d %H:%M:%S'))\n",
    "train['Date'] = train.date_hour.apply(lambda dt: dt.year*10000 + dt.month* 100  + dt.day)\n",
    "train['Hour'] = train.date_hour.apply(lambda x: x.time().hour)\n",
    "train['Weekday'] = train.date_hour.apply(lambda x: x.weekday())\n",
    "train['Floor'] = train.building_floor.apply(lambda x: int(x[2:]))\n",
    "train['isWeekend'] = train.Weekday.apply(lambda x: 1 if x in (5,6) else 0)"
   ]
  },
  {
   "cell_type": "code",
   "execution_count": 10,
   "metadata": {},
   "outputs": [],
   "source": [
    "train['isHoliday'] = train.date_hour.apply(lambda x: d.is_holiday_for_zone(dt.date(x.year, x.month, x.day), 'C'))\n",
    "train['isPublicHoliday'] = train.date_hour.apply(lambda x: dt.date(x.year, x.month, x.day) in JoursFeries.for_year(x.year).values())"
   ]
  },
  {
   "cell_type": "code",
   "execution_count": 11,
   "metadata": {},
   "outputs": [
    {
     "data": {
      "text/html": [
       "<div>\n",
       "<style scoped>\n",
       "    .dataframe tbody tr th:only-of-type {\n",
       "        vertical-align: middle;\n",
       "    }\n",
       "\n",
       "    .dataframe tbody tr th {\n",
       "        vertical-align: top;\n",
       "    }\n",
       "\n",
       "    .dataframe thead th {\n",
       "        text-align: right;\n",
       "    }\n",
       "</style>\n",
       "<table border=\"1\" class=\"dataframe\">\n",
       "  <thead>\n",
       "    <tr style=\"text-align: right;\">\n",
       "      <th></th>\n",
       "      <th>date_hour</th>\n",
       "      <th>building_floor</th>\n",
       "      <th>number_of_metro_1</th>\n",
       "      <th>number_of_rer_a</th>\n",
       "      <th>temp_c</th>\n",
       "      <th>high_cloud_cover_per</th>\n",
       "      <th>medium_cloud_cover_per</th>\n",
       "      <th>low_cloud_cover_per</th>\n",
       "      <th>precipitation_mm</th>\n",
       "      <th>sunshine_duration_h</th>\n",
       "      <th>...</th>\n",
       "      <th>is_a_strike_sncf_day</th>\n",
       "      <th>floor_capacity</th>\n",
       "      <th>attendance</th>\n",
       "      <th>Date</th>\n",
       "      <th>Hour</th>\n",
       "      <th>Weekday</th>\n",
       "      <th>Floor</th>\n",
       "      <th>isWeekend</th>\n",
       "      <th>isHoliday</th>\n",
       "      <th>isPublicHoliday</th>\n",
       "    </tr>\n",
       "  </thead>\n",
       "  <tbody>\n",
       "    <tr>\n",
       "      <th>0</th>\n",
       "      <td>2019-04-12</td>\n",
       "      <td>T100</td>\n",
       "      <td>32.0</td>\n",
       "      <td>26.0</td>\n",
       "      <td>6.0</td>\n",
       "      <td>0.0</td>\n",
       "      <td>0.0</td>\n",
       "      <td>0.0</td>\n",
       "      <td>0.0</td>\n",
       "      <td>0.0</td>\n",
       "      <td>...</td>\n",
       "      <td>NO</td>\n",
       "      <td>266.0</td>\n",
       "      <td>0.0</td>\n",
       "      <td>20190412</td>\n",
       "      <td>0</td>\n",
       "      <td>4</td>\n",
       "      <td>0</td>\n",
       "      <td>0</td>\n",
       "      <td>False</td>\n",
       "      <td>False</td>\n",
       "    </tr>\n",
       "    <tr>\n",
       "      <th>1</th>\n",
       "      <td>2019-04-12</td>\n",
       "      <td>T101</td>\n",
       "      <td>32.0</td>\n",
       "      <td>26.0</td>\n",
       "      <td>6.0</td>\n",
       "      <td>0.0</td>\n",
       "      <td>0.0</td>\n",
       "      <td>0.0</td>\n",
       "      <td>0.0</td>\n",
       "      <td>0.0</td>\n",
       "      <td>...</td>\n",
       "      <td>NO</td>\n",
       "      <td>178.0</td>\n",
       "      <td>0.0</td>\n",
       "      <td>20190412</td>\n",
       "      <td>0</td>\n",
       "      <td>4</td>\n",
       "      <td>1</td>\n",
       "      <td>0</td>\n",
       "      <td>False</td>\n",
       "      <td>False</td>\n",
       "    </tr>\n",
       "    <tr>\n",
       "      <th>2</th>\n",
       "      <td>2019-04-12</td>\n",
       "      <td>T102</td>\n",
       "      <td>32.0</td>\n",
       "      <td>26.0</td>\n",
       "      <td>6.0</td>\n",
       "      <td>0.0</td>\n",
       "      <td>0.0</td>\n",
       "      <td>0.0</td>\n",
       "      <td>0.0</td>\n",
       "      <td>0.0</td>\n",
       "      <td>...</td>\n",
       "      <td>NO</td>\n",
       "      <td>306.0</td>\n",
       "      <td>0.0</td>\n",
       "      <td>20190412</td>\n",
       "      <td>0</td>\n",
       "      <td>4</td>\n",
       "      <td>2</td>\n",
       "      <td>0</td>\n",
       "      <td>False</td>\n",
       "      <td>False</td>\n",
       "    </tr>\n",
       "    <tr>\n",
       "      <th>3</th>\n",
       "      <td>2019-04-12</td>\n",
       "      <td>T103</td>\n",
       "      <td>32.0</td>\n",
       "      <td>26.0</td>\n",
       "      <td>6.0</td>\n",
       "      <td>0.0</td>\n",
       "      <td>0.0</td>\n",
       "      <td>0.0</td>\n",
       "      <td>0.0</td>\n",
       "      <td>0.0</td>\n",
       "      <td>...</td>\n",
       "      <td>NO</td>\n",
       "      <td>173.0</td>\n",
       "      <td>7.0</td>\n",
       "      <td>20190412</td>\n",
       "      <td>0</td>\n",
       "      <td>4</td>\n",
       "      <td>3</td>\n",
       "      <td>0</td>\n",
       "      <td>False</td>\n",
       "      <td>False</td>\n",
       "    </tr>\n",
       "    <tr>\n",
       "      <th>4</th>\n",
       "      <td>2019-04-12</td>\n",
       "      <td>T104</td>\n",
       "      <td>32.0</td>\n",
       "      <td>26.0</td>\n",
       "      <td>6.0</td>\n",
       "      <td>0.0</td>\n",
       "      <td>0.0</td>\n",
       "      <td>0.0</td>\n",
       "      <td>0.0</td>\n",
       "      <td>0.0</td>\n",
       "      <td>...</td>\n",
       "      <td>NO</td>\n",
       "      <td>221.0</td>\n",
       "      <td>74.0</td>\n",
       "      <td>20190412</td>\n",
       "      <td>0</td>\n",
       "      <td>4</td>\n",
       "      <td>4</td>\n",
       "      <td>0</td>\n",
       "      <td>False</td>\n",
       "      <td>False</td>\n",
       "    </tr>\n",
       "  </tbody>\n",
       "</table>\n",
       "<p>5 rows × 21 columns</p>\n",
       "</div>"
      ],
      "text/plain": [
       "   date_hour building_floor  number_of_metro_1  number_of_rer_a  temp_c  \\\n",
       "0 2019-04-12           T100               32.0             26.0     6.0   \n",
       "1 2019-04-12           T101               32.0             26.0     6.0   \n",
       "2 2019-04-12           T102               32.0             26.0     6.0   \n",
       "3 2019-04-12           T103               32.0             26.0     6.0   \n",
       "4 2019-04-12           T104               32.0             26.0     6.0   \n",
       "\n",
       "   high_cloud_cover_per  medium_cloud_cover_per  low_cloud_cover_per  \\\n",
       "0                   0.0                     0.0                  0.0   \n",
       "1                   0.0                     0.0                  0.0   \n",
       "2                   0.0                     0.0                  0.0   \n",
       "3                   0.0                     0.0                  0.0   \n",
       "4                   0.0                     0.0                  0.0   \n",
       "\n",
       "   precipitation_mm  sunshine_duration_h  ... is_a_strike_sncf_day  \\\n",
       "0               0.0                  0.0  ...                   NO   \n",
       "1               0.0                  0.0  ...                   NO   \n",
       "2               0.0                  0.0  ...                   NO   \n",
       "3               0.0                  0.0  ...                   NO   \n",
       "4               0.0                  0.0  ...                   NO   \n",
       "\n",
       "  floor_capacity  attendance      Date  Hour  Weekday  Floor  isWeekend  \\\n",
       "0          266.0         0.0  20190412     0        4      0          0   \n",
       "1          178.0         0.0  20190412     0        4      1          0   \n",
       "2          306.0         0.0  20190412     0        4      2          0   \n",
       "3          173.0         7.0  20190412     0        4      3          0   \n",
       "4          221.0        74.0  20190412     0        4      4          0   \n",
       "\n",
       "   isHoliday  isPublicHoliday  \n",
       "0      False            False  \n",
       "1      False            False  \n",
       "2      False            False  \n",
       "3      False            False  \n",
       "4      False            False  \n",
       "\n",
       "[5 rows x 21 columns]"
      ]
     },
     "execution_count": 11,
     "metadata": {},
     "output_type": "execute_result"
    }
   ],
   "source": [
    "train.head()"
   ]
  },
  {
   "cell_type": "code",
   "execution_count": 12,
   "metadata": {},
   "outputs": [],
   "source": [
    "traffic = pd.read_csv(\"traffic.csv\", delimiter = \";\")"
   ]
  },
  {
   "cell_type": "code",
   "execution_count": 13,
   "metadata": {},
   "outputs": [],
   "source": [
    "traffic.Hour = traffic.Hour.apply(lambda x: dt.datetime.strptime(x, '%I:%M %p').time().hour)"
   ]
  },
  {
   "cell_type": "code",
   "execution_count": 14,
   "metadata": {},
   "outputs": [],
   "source": [
    "traffic.Traffic = traffic.Traffic.apply(lambda x: x.rstrip('%'))"
   ]
  },
  {
   "cell_type": "code",
   "execution_count": 15,
   "metadata": {},
   "outputs": [],
   "source": [
    "traffic['isTraffic'] = traffic.Traffic.apply(lambda x: 1 if int(x) > 50 else 0)\n",
    "traffic = traffic.drop(['Traffic'], axis = 1)"
   ]
  },
  {
   "cell_type": "code",
   "execution_count": 16,
   "metadata": {},
   "outputs": [],
   "source": [
    "#train = train.merge(traffic, on = [\"Weekday\", \"Hour\"])"
   ]
  },
  {
   "cell_type": "code",
   "execution_count": 17,
   "metadata": {},
   "outputs": [],
   "source": [
    "train = train.fillna(0)"
   ]
  },
  {
   "cell_type": "code",
   "execution_count": 18,
   "metadata": {},
   "outputs": [
    {
     "data": {
      "image/png": "[encoded data removed]",
      "text/plain": [
       "<Figure size 432x288 with 2 Axes>"
      ]
     },
     "metadata": {
      "needs_background": "light"
     },
     "output_type": "display_data"
    }
   ],
   "source": [
    "import seaborn as sns\n",
    "\n",
    "corr = train.corr()\n",
    "ax = sns.heatmap(\n",
    "    corr, \n",
    "    vmin=-1, vmax=1, center=0,\n",
    "    cmap=sns.diverging_palette(20, 220, n=200),\n",
    "    square=True\n",
    ")\n",
    "ax.set_xticklabels(\n",
    "    ax.get_xticklabels(),\n",
    "    rotation=45,\n",
    "    horizontalalignment='right'\n",
    ");"
   ]
  },
  {
   "cell_type": "code",
   "execution_count": 19,
   "metadata": {},
   "outputs": [
    {
     "data": {
      "text/plain": [
       "number_of_metro_1         0.313920\n",
       "number_of_rer_a           0.317083\n",
       "temp_c                    0.205551\n",
       "high_cloud_cover_per     -0.005315\n",
       "medium_cloud_cover_per   -0.012687\n",
       "low_cloud_cover_per      -0.039771\n",
       "precipitation_mm         -0.032349\n",
       "sunshine_duration_h       0.263262\n",
       "floor_capacity            0.234531\n",
       "attendance                1.000000\n",
       "Date                      0.023607\n",
       "Hour                      0.168674\n",
       "Weekday                  -0.306603\n",
       "Floor                    -0.123205\n",
       "isWeekend                -0.353690\n",
       "isHoliday                -0.110182\n",
       "isPublicHoliday          -0.094258\n",
       "Name: attendance, dtype: float64"
      ]
     },
     "execution_count": 19,
     "metadata": {},
     "output_type": "execute_result"
    }
   ],
   "source": [
    "corr.attendance"
   ]
  },
  {
   "cell_type": "code",
   "execution_count": 20,
   "metadata": {},
   "outputs": [],
   "source": [
    "# DayPeriod: \n",
    "# 1 = working\n",
    "# 2 = lunch\n",
    "# 3 = out of office"
   ]
  },
  {
   "cell_type": "code",
   "execution_count": 21,
   "metadata": {},
   "outputs": [],
   "source": [
    "train['DayPeriod'] = train.Hour.apply(lambda x: 1 if x in (9,10, 11, 15, 16, 17, 18, 19) else 2 if x in (12, 13, 14) else 3 )"
   ]
  },
  {
   "cell_type": "code",
   "execution_count": 22,
   "metadata": {},
   "outputs": [],
   "source": [
    "train = train.replace(\"NO\", 0).replace(\"YES\", 1).replace('True', 1).replace('False', 0)"
   ]
  },
  {
   "cell_type": "code",
   "execution_count": 23,
   "metadata": {},
   "outputs": [
    {
     "data": {
      "text/html": [
       "<div>\n",
       "<style scoped>\n",
       "    .dataframe tbody tr th:only-of-type {\n",
       "        vertical-align: middle;\n",
       "    }\n",
       "\n",
       "    .dataframe tbody tr th {\n",
       "        vertical-align: top;\n",
       "    }\n",
       "\n",
       "    .dataframe thead th {\n",
       "        text-align: right;\n",
       "    }\n",
       "</style>\n",
       "<table border=\"1\" class=\"dataframe\">\n",
       "  <thead>\n",
       "    <tr style=\"text-align: right;\">\n",
       "      <th></th>\n",
       "      <th>date_hour</th>\n",
       "      <th>building_floor</th>\n",
       "      <th>number_of_metro_1</th>\n",
       "      <th>number_of_rer_a</th>\n",
       "      <th>temp_c</th>\n",
       "      <th>high_cloud_cover_per</th>\n",
       "      <th>medium_cloud_cover_per</th>\n",
       "      <th>low_cloud_cover_per</th>\n",
       "      <th>precipitation_mm</th>\n",
       "      <th>sunshine_duration_h</th>\n",
       "      <th>...</th>\n",
       "      <th>floor_capacity</th>\n",
       "      <th>attendance</th>\n",
       "      <th>Date</th>\n",
       "      <th>Hour</th>\n",
       "      <th>Weekday</th>\n",
       "      <th>Floor</th>\n",
       "      <th>isWeekend</th>\n",
       "      <th>isHoliday</th>\n",
       "      <th>isPublicHoliday</th>\n",
       "      <th>DayPeriod</th>\n",
       "    </tr>\n",
       "  </thead>\n",
       "  <tbody>\n",
       "    <tr>\n",
       "      <th>0</th>\n",
       "      <td>2019-04-12</td>\n",
       "      <td>T100</td>\n",
       "      <td>32.0</td>\n",
       "      <td>26.0</td>\n",
       "      <td>6.0</td>\n",
       "      <td>0.0</td>\n",
       "      <td>0.0</td>\n",
       "      <td>0.0</td>\n",
       "      <td>0.0</td>\n",
       "      <td>0.0</td>\n",
       "      <td>...</td>\n",
       "      <td>266.0</td>\n",
       "      <td>0.0</td>\n",
       "      <td>20190412</td>\n",
       "      <td>0</td>\n",
       "      <td>4</td>\n",
       "      <td>0</td>\n",
       "      <td>0</td>\n",
       "      <td>False</td>\n",
       "      <td>False</td>\n",
       "      <td>3</td>\n",
       "    </tr>\n",
       "    <tr>\n",
       "      <th>1</th>\n",
       "      <td>2019-04-12</td>\n",
       "      <td>T101</td>\n",
       "      <td>32.0</td>\n",
       "      <td>26.0</td>\n",
       "      <td>6.0</td>\n",
       "      <td>0.0</td>\n",
       "      <td>0.0</td>\n",
       "      <td>0.0</td>\n",
       "      <td>0.0</td>\n",
       "      <td>0.0</td>\n",
       "      <td>...</td>\n",
       "      <td>178.0</td>\n",
       "      <td>0.0</td>\n",
       "      <td>20190412</td>\n",
       "      <td>0</td>\n",
       "      <td>4</td>\n",
       "      <td>1</td>\n",
       "      <td>0</td>\n",
       "      <td>False</td>\n",
       "      <td>False</td>\n",
       "      <td>3</td>\n",
       "    </tr>\n",
       "    <tr>\n",
       "      <th>2</th>\n",
       "      <td>2019-04-12</td>\n",
       "      <td>T102</td>\n",
       "      <td>32.0</td>\n",
       "      <td>26.0</td>\n",
       "      <td>6.0</td>\n",
       "      <td>0.0</td>\n",
       "      <td>0.0</td>\n",
       "      <td>0.0</td>\n",
       "      <td>0.0</td>\n",
       "      <td>0.0</td>\n",
       "      <td>...</td>\n",
       "      <td>306.0</td>\n",
       "      <td>0.0</td>\n",
       "      <td>20190412</td>\n",
       "      <td>0</td>\n",
       "      <td>4</td>\n",
       "      <td>2</td>\n",
       "      <td>0</td>\n",
       "      <td>False</td>\n",
       "      <td>False</td>\n",
       "      <td>3</td>\n",
       "    </tr>\n",
       "    <tr>\n",
       "      <th>3</th>\n",
       "      <td>2019-04-12</td>\n",
       "      <td>T103</td>\n",
       "      <td>32.0</td>\n",
       "      <td>26.0</td>\n",
       "      <td>6.0</td>\n",
       "      <td>0.0</td>\n",
       "      <td>0.0</td>\n",
       "      <td>0.0</td>\n",
       "      <td>0.0</td>\n",
       "      <td>0.0</td>\n",
       "      <td>...</td>\n",
       "      <td>173.0</td>\n",
       "      <td>7.0</td>\n",
       "      <td>20190412</td>\n",
       "      <td>0</td>\n",
       "      <td>4</td>\n",
       "      <td>3</td>\n",
       "      <td>0</td>\n",
       "      <td>False</td>\n",
       "      <td>False</td>\n",
       "      <td>3</td>\n",
       "    </tr>\n",
       "    <tr>\n",
       "      <th>4</th>\n",
       "      <td>2019-04-12</td>\n",
       "      <td>T104</td>\n",
       "      <td>32.0</td>\n",
       "      <td>26.0</td>\n",
       "      <td>6.0</td>\n",
       "      <td>0.0</td>\n",
       "      <td>0.0</td>\n",
       "      <td>0.0</td>\n",
       "      <td>0.0</td>\n",
       "      <td>0.0</td>\n",
       "      <td>...</td>\n",
       "      <td>221.0</td>\n",
       "      <td>74.0</td>\n",
       "      <td>20190412</td>\n",
       "      <td>0</td>\n",
       "      <td>4</td>\n",
       "      <td>4</td>\n",
       "      <td>0</td>\n",
       "      <td>False</td>\n",
       "      <td>False</td>\n",
       "      <td>3</td>\n",
       "    </tr>\n",
       "  </tbody>\n",
       "</table>\n",
       "<p>5 rows × 22 columns</p>\n",
       "</div>"
      ],
      "text/plain": [
       "   date_hour building_floor  number_of_metro_1  number_of_rer_a  temp_c  \\\n",
       "0 2019-04-12           T100               32.0             26.0     6.0   \n",
       "1 2019-04-12           T101               32.0             26.0     6.0   \n",
       "2 2019-04-12           T102               32.0             26.0     6.0   \n",
       "3 2019-04-12           T103               32.0             26.0     6.0   \n",
       "4 2019-04-12           T104               32.0             26.0     6.0   \n",
       "\n",
       "   high_cloud_cover_per  medium_cloud_cover_per  low_cloud_cover_per  \\\n",
       "0                   0.0                     0.0                  0.0   \n",
       "1                   0.0                     0.0                  0.0   \n",
       "2                   0.0                     0.0                  0.0   \n",
       "3                   0.0                     0.0                  0.0   \n",
       "4                   0.0                     0.0                  0.0   \n",
       "\n",
       "   precipitation_mm  sunshine_duration_h  ...  floor_capacity  attendance  \\\n",
       "0               0.0                  0.0  ...           266.0         0.0   \n",
       "1               0.0                  0.0  ...           178.0         0.0   \n",
       "2               0.0                  0.0  ...           306.0         0.0   \n",
       "3               0.0                  0.0  ...           173.0         7.0   \n",
       "4               0.0                  0.0  ...           221.0        74.0   \n",
       "\n",
       "       Date  Hour  Weekday  Floor  isWeekend  isHoliday  isPublicHoliday  \\\n",
       "0  20190412     0        4      0          0      False            False   \n",
       "1  20190412     0        4      1          0      False            False   \n",
       "2  20190412     0        4      2          0      False            False   \n",
       "3  20190412     0        4      3          0      False            False   \n",
       "4  20190412     0        4      4          0      False            False   \n",
       "\n",
       "   DayPeriod  \n",
       "0          3  \n",
       "1          3  \n",
       "2          3  \n",
       "3          3  \n",
       "4          3  \n",
       "\n",
       "[5 rows x 22 columns]"
      ]
     },
     "execution_count": 23,
     "metadata": {},
     "output_type": "execute_result"
    }
   ],
   "source": [
    "train.head()"
   ]
  },
  {
   "cell_type": "code",
   "execution_count": 24,
   "metadata": {},
   "outputs": [
    {
     "data": {
      "text/plain": [
       "Index(['date_hour', 'building_floor', 'number_of_metro_1', 'number_of_rer_a',\n",
       "       'temp_c', 'high_cloud_cover_per', 'medium_cloud_cover_per',\n",
       "       'low_cloud_cover_per', 'precipitation_mm', 'sunshine_duration_h',\n",
       "       'is_a_strike_ratp_day', 'is_a_strike_sncf_day', 'floor_capacity',\n",
       "       'attendance', 'Date', 'Hour', 'Weekday', 'Floor', 'isWeekend',\n",
       "       'isHoliday', 'isPublicHoliday', 'DayPeriod'],\n",
       "      dtype='object')"
      ]
     },
     "execution_count": 24,
     "metadata": {},
     "output_type": "execute_result"
    }
   ],
   "source": [
    "train.columns"
   ]
  },
  {
   "cell_type": "code",
   "execution_count": 25,
   "metadata": {},
   "outputs": [],
   "source": [
    "X = train.drop(['attendance', 'date_hour', 'building_floor'], axis =1 )\n",
    "y = train['attendance']"
   ]
  },
  {
   "cell_type": "code",
   "execution_count": 26,
   "metadata": {},
   "outputs": [],
   "source": [
    "from sklearn.model_selection import train_test_split"
   ]
  },
  {
   "cell_type": "code",
   "execution_count": 66,
   "metadata": {},
   "outputs": [],
   "source": [
    "X_train, X_test, y_train, y_test = train_test_split(X, y, test_size=0.8, random_state=42)"
   ]
  },
  {
   "cell_type": "code",
   "execution_count": 28,
   "metadata": {},
   "outputs": [
    {
     "name": "stdout",
     "output_type": "stream",
     "text": [
      "5.93672863938489\n",
      "14.591331952528268\n"
     ]
    }
   ],
   "source": [
    "from sklearn.tree import DecisionTreeRegressor\n",
    "from sklearn.metrics import mean_squared_error\n",
    "from math import sqrt\n",
    "\n",
    "\n",
    "regr = DecisionTreeRegressor(max_depth = 19)\n",
    "regr.fit(X_train, y_train)\n",
    "\n",
    "rms =  sqrt(mean_squared_error(y_train, regr.predict(X_train)))\n",
    "print(rms)\n",
    "rms =  sqrt(mean_squared_error(y_test, regr.predict(X_test)))\n",
    "print(rms)"
   ]
  },
  {
   "cell_type": "code",
   "execution_count": 29,
   "metadata": {},
   "outputs": [
    {
     "name": "stdout",
     "output_type": "stream",
     "text": [
      "27 :\t 11.208482805120308\n",
      "Train/train: \t 27 : \t 4.277704036601264\n",
      "37 :\t 11.200882945321336\n",
      "Train/train: \t 37 : \t 4.263272682045877\n"
     ]
    }
   ],
   "source": [
    "from sklearn.ensemble import RandomForestRegressor\n",
    "# from sklearn.ensemble import RandomForestRegressor\n",
    "for i in [27,37]:\n",
    "    regr = RandomForestRegressor(max_depth = i)\n",
    "    regr.fit(X_train, y_train)\n",
    "    rms =  sqrt(mean_squared_error(y_test, regr.predict(X_test)))\n",
    "    print(i,\":\\t\", rms)\n",
    "    rms =  sqrt(mean_squared_error(y_train, regr.predict(X_train)))\n",
    "    print(\"Train/train: \\t\",i, \": \\t\", rms)\n"
   ]
  },
  {
   "cell_type": "code",
   "execution_count": 30,
   "metadata": {},
   "outputs": [],
   "source": [
    "test = pd.read_csv(\"./GBS_Building_Attendance-Test.csv\")\n",
    "#test = pd.merge(test, meeting_room, on=['building_floor'], how = 'left')\n",
    "test['date_hour'] = test.date_hour.apply(lambda x: dt.datetime.strptime(x, '%Y-%m-%d %H:%M:%S'))\n",
    "test['Date'] = test.date_hour.apply(lambda dt: dt.year*10000 + dt.month* 100  + dt.day)\n",
    "test['Hour'] = test.date_hour.apply(lambda x: x.time().hour)\n",
    "test['Weekday'] = test.date_hour.apply(lambda x: x.weekday())\n",
    "test['Floor'] = test.building_floor.apply(lambda x: int(x[2:]))\n",
    "test['isWeekend'] = test.Weekday.apply(lambda x: 1 if x in (5,6) else 0)\n",
    "test['isHoliday'] = test.date_hour.apply(lambda x: d.is_holiday_for_zone(dt.date(x.year, x.month, x.day), 'C'))"
   ]
  },
  {
   "cell_type": "code",
   "execution_count": 31,
   "metadata": {},
   "outputs": [],
   "source": [
    "test['isPublicHoliday'] = test.date_hour.apply(lambda x: dt.date(x.year, x.month, x.day) in JoursFeries.for_year(x.year).values())"
   ]
  },
  {
   "cell_type": "code",
   "execution_count": 32,
   "metadata": {},
   "outputs": [],
   "source": [
    "test = test.replace(\"NO\", 0).replace(\"YES\", 1).replace('True', 1).replace('False', 0)\n",
    "#test = test.merge(traffic, on = [\"Weekday\", \"Hour\"])\n",
    "test['DayPeriod'] = test.Hour.apply(lambda x: 1 if x in (9,10, 11, 15, 16, 17, 18, 19) else 2 if x in (12, 13, 14) else 3 )"
   ]
  },
  {
   "cell_type": "code",
   "execution_count": 33,
   "metadata": {},
   "outputs": [],
   "source": [
    "test = test.fillna(0)"
   ]
  },
  {
   "cell_type": "code",
   "execution_count": 76,
   "metadata": {},
   "outputs": [],
   "source": [
    "X_test = test.drop(['date_hour', 'building_floor'], axis =1 )"
   ]
  },
  {
   "cell_type": "code",
   "execution_count": 81,
   "metadata": {},
   "outputs": [],
   "source": [
    "X_train = X\n",
    "y_train = y\n",
    "\n",
    "#y_test = test.attendance"
   ]
  },
  {
   "cell_type": "code",
   "execution_count": 36,
   "metadata": {},
   "outputs": [
    {
     "data": {
      "text/plain": [
       "Index(['number_of_metro_1', 'number_of_rer_a', 'temp_c',\n",
       "       'high_cloud_cover_per', 'medium_cloud_cover_per', 'low_cloud_cover_per',\n",
       "       'precipitation_mm', 'sunshine_duration_h', 'is_a_strike_ratp_day',\n",
       "       'is_a_strike_sncf_day', 'floor_capacity', 'Date', 'Hour', 'Weekday',\n",
       "       'Floor', 'isWeekend', 'isHoliday', 'isPublicHoliday', 'DayPeriod'],\n",
       "      dtype='object')"
      ]
     },
     "execution_count": 36,
     "metadata": {},
     "output_type": "execute_result"
    }
   ],
   "source": [
    "X_train.columns"
   ]
  },
  {
   "cell_type": "code",
   "execution_count": 37,
   "metadata": {},
   "outputs": [
    {
     "data": {
      "text/plain": [
       "Index(['number_of_metro_1', 'number_of_rer_a', 'temp_c',\n",
       "       'high_cloud_cover_per', 'medium_cloud_cover_per', 'low_cloud_cover_per',\n",
       "       'precipitation_mm', 'sunshine_duration_h', 'is_a_strike_ratp_day',\n",
       "       'is_a_strike_sncf_day', 'floor_capacity', 'Date', 'Hour', 'Weekday',\n",
       "       'Floor', 'isWeekend', 'isHoliday', 'isPublicHoliday', 'DayPeriod'],\n",
       "      dtype='object')"
      ]
     },
     "execution_count": 37,
     "metadata": {},
     "output_type": "execute_result"
    }
   ],
   "source": [
    "X_test.columns"
   ]
  },
  {
   "cell_type": "code",
   "execution_count": 38,
   "metadata": {},
   "outputs": [],
   "source": [
    "from sklearn.ensemble import RandomForestRegressor\n",
    "regr = RandomForestRegressor(max_depth = 27)\n",
    "regr.fit(X_train, y_train)\n",
    "\n",
    "y_predict = regr.predict(X_test)"
   ]
  },
  {
   "cell_type": "code",
   "execution_count": 39,
   "metadata": {},
   "outputs": [
    {
     "name": "stdout",
     "output_type": "stream",
     "text": [
      "3.189214594471253\n"
     ]
    }
   ],
   "source": [
    "rms =  sqrt(mean_squared_error(y_train, regr.predict(X_train)))\n",
    "print(rms)"
   ]
  },
  {
   "cell_type": "code",
   "execution_count": 40,
   "metadata": {},
   "outputs": [],
   "source": [
    "predict = X_test\n",
    "predict['attendance'] = y_predict\n",
    "predict['attendance'] = predict.attendance.apply(lambda x: round(x))"
   ]
  },
  {
   "cell_type": "code",
   "execution_count": 41,
   "metadata": {},
   "outputs": [],
   "source": [
    "predict.attendance.to_csv('output.csv', header = False, index = False)"
   ]
  },
  {
   "cell_type": "code",
   "execution_count": 42,
   "metadata": {},
   "outputs": [
    {
     "data": {
      "text/plain": [
       "Index(['date_hour', 'building_floor', 'number_of_metro_1', 'number_of_rer_a',\n",
       "       'temp_c', 'high_cloud_cover_per', 'medium_cloud_cover_per',\n",
       "       'low_cloud_cover_per', 'precipitation_mm', 'sunshine_duration_h',\n",
       "       'is_a_strike_ratp_day', 'is_a_strike_sncf_day', 'floor_capacity',\n",
       "       'attendance', 'Date', 'Hour', 'Weekday', 'Floor', 'isWeekend',\n",
       "       'isHoliday', 'isPublicHoliday', 'DayPeriod'],\n",
       "      dtype='object')"
      ]
     },
     "execution_count": 42,
     "metadata": {},
     "output_type": "execute_result"
    }
   ],
   "source": [
    "train.columns"
   ]
  },
  {
   "cell_type": "markdown",
   "metadata": {},
   "source": [
    "# AdaBoost + Decision Tree"
   ]
  },
  {
   "cell_type": "code",
   "execution_count": null,
   "metadata": {},
   "outputs": [],
   "source": [
    "from sklearn.ensemble import AdaBoostRegressor"
   ]
  },
  {
   "cell_type": "code",
   "execution_count": null,
   "metadata": {},
   "outputs": [],
   "source": [
    "regr_2 = AdaBoostRegressor(DecisionTreeRegressor(max_depth=17),random_state=0, n_estimators=100,learning_rate=0.1)"
   ]
  },
  {
   "cell_type": "code",
   "execution_count": null,
   "metadata": {},
   "outputs": [],
   "source": [
    "%%time\n",
    "regr_2.fit(X_train, y_train)"
   ]
  },
  {
   "cell_type": "code",
   "execution_count": null,
   "metadata": {},
   "outputs": [],
   "source": [
    "rms =  sqrt(mean_squared_error(y_train, regr_2.predict(X_train)))\n",
    "print(rms)"
   ]
  },
  {
   "cell_type": "code",
   "execution_count": null,
   "metadata": {},
   "outputs": [],
   "source": [
    "if \"attendance\" in X_test.columns:\n",
    "    X_test = X_test.drop(['attendance'], axis = 1)"
   ]
  },
  {
   "cell_type": "code",
   "execution_count": null,
   "metadata": {},
   "outputs": [],
   "source": [
    "y_predict = regr_2.predict(X_test)"
   ]
  },
  {
   "cell_type": "code",
   "execution_count": null,
   "metadata": {},
   "outputs": [],
   "source": [
    "predict = X_test\n",
    "predict['attendance'] = y_predict\n",
    "predict['attendance'] = predict.attendance.apply(lambda x: round(x))\n",
    "predict.attendance.to_csv('output_ada_boost.csv', header = False, index = False)"
   ]
  },
  {
   "cell_type": "markdown",
   "metadata": {},
   "source": [
    "# CatBoost"
   ]
  },
  {
   "cell_type": "code",
   "execution_count": 52,
   "metadata": {},
   "outputs": [],
   "source": [
    "from catboost import CatBoostRegressor"
   ]
  },
  {
   "cell_type": "code",
   "execution_count": null,
   "metadata": {},
   "outputs": [
    {
     "name": "stderr",
     "output_type": "stream",
     "text": [
      "You should provide test set for use best model. use_best_model parameter has been switched to false value.\n"
     ]
    },
    {
     "name": "stdout",
     "output_type": "stream",
     "text": [
      "0:\tlearn: 46.0593895\ttotal: 75.1ms\tremaining: 1m 15s\n",
      "75:\tlearn: 10.9248588\ttotal: 5.95s\tremaining: 1m 12s\n",
      "150:\tlearn: 9.0316406\ttotal: 12.6s\tremaining: 1m 10s\n"
     ]
    }
   ],
   "source": [
    "%%time\n",
    "cb_model = CatBoostRegressor(iterations=1000,\n",
    "                             learning_rate=0.1,\n",
    "                             depth=12,\n",
    "                             eval_metric='RMSE',\n",
    "                             random_seed = 23,\n",
    "                             bagging_temperature = 0.02,\n",
    "                             od_type='Iter',\n",
    "                             metric_period = 75,\n",
    "                             od_wait=500)\n",
    "cb_model.fit(X_train, y_train,\n",
    "             use_best_model=True,\n",
    "             verbose=True)"
   ]
  },
  {
   "cell_type": "code",
   "execution_count": null,
   "metadata": {},
   "outputs": [],
   "source": [
    "print('RMSE:', np.sqrt(mean_squared_error(y_train, cb_model.predict(X_train))))"
   ]
  },
  {
   "cell_type": "code",
   "execution_count": null,
   "metadata": {},
   "outputs": [],
   "source": [
    "y_predict = cb_model.predict(X_test)"
   ]
  },
  {
   "cell_type": "code",
   "execution_count": null,
   "metadata": {},
   "outputs": [],
   "source": [
    "predict = X_test\n",
    "predict['attendance'] = y_predict\n",
    "predict['attendance'] = predict.attendance.apply(lambda x: round(x))\n",
    "predict.attendance.to_csv('output_catboost.csv', header = False, index = False)"
   ]
  },
  {
   "cell_type": "code",
   "execution_count": null,
   "metadata": {},
   "outputs": [],
   "source": []
  }
 ],
 "metadata": {
  "kernelspec": {
   "display_name": "Python 3",
   "language": "python",
   "name": "python3"
  },
  "language_info": {
   "codemirror_mode": {
    "name": "ipython",
    "version": 3
   },
   "file_extension": ".py",
   "mimetype": "text/x-python",
   "name": "python",
   "nbconvert_exporter": "python",
   "pygments_lexer": "ipython3",
   "version": "3.7.7"
  }
 },
 "nbformat": 4,
 "nbformat_minor": 4
}
